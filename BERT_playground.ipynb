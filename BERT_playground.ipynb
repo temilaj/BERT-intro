{
  "nbformat": 4,
  "nbformat_minor": 0,
  "metadata": {
    "colab": {
      "name": "BERT-playground.ipynb",
      "provenance": [],
      "authorship_tag": "ABX9TyOw2y41ewuRC+9zVTV53X+Y",
      "include_colab_link": true
    },
    "kernelspec": {
      "name": "python3",
      "display_name": "Python 3"
    }
  },
  "cells": [
    {
      "cell_type": "markdown",
      "metadata": {
        "id": "view-in-github",
        "colab_type": "text"
      },
      "source": [
        "<a href=\"https://colab.research.google.com/github/temilaj/BERT-playground/blob/master/BERT_playground.ipynb\" target=\"_parent\"><img src=\"https://colab.research.google.com/assets/colab-badge.svg\" alt=\"Open In Colab\"/></a>"
      ]
    },
    {
      "cell_type": "code",
      "metadata": {
        "colab": {
          "base_uri": "https://localhost:8080/"
        },
        "id": "24mU3_LWwlsm",
        "outputId": "0c15c623-e463-43cf-f9dd-fe1207727618"
      },
      "source": [
        "!wget --no-check-certificate \\\n",
        "    https://storage.googleapis.com/bert_models/2018_10_18/uncased_L-12_H-768_A-12.zip \\\n",
        "    -O /tmp/bert-base.zip"
      ],
      "execution_count": null,
      "outputs": [
        {
          "output_type": "stream",
          "text": [
            "--2021-02-13 05:11:14--  https://storage.googleapis.com/bert_models/2018_10_18/uncased_L-12_H-768_A-12.zip\n",
            "Resolving storage.googleapis.com (storage.googleapis.com)... 108.177.119.128, 108.177.126.128, 108.177.127.128, ...\n",
            "Connecting to storage.googleapis.com (storage.googleapis.com)|108.177.119.128|:443... connected.\n",
            "HTTP request sent, awaiting response... 200 OK\n",
            "Length: 407727028 (389M) [application/zip]\n",
            "Saving to: ‘/tmp/bert-base.zip’\n",
            "\n",
            "/tmp/bert-base.zip  100%[===================>] 388.84M   151MB/s    in 2.6s    \n",
            "\n",
            "2021-02-13 05:11:17 (151 MB/s) - ‘/tmp/bert-base.zip’ saved [407727028/407727028]\n",
            "\n"
          ],
          "name": "stdout"
        }
      ]
    },
    {
      "cell_type": "code",
      "metadata": {
        "colab": {
          "base_uri": "https://localhost:8080/"
        },
        "id": "NjrMye5VzRrC",
        "outputId": "ffca2932-e38f-4853-cdda-132f9183aea4"
      },
      "source": [
        "!wget --no-check-certificate \\\n",
        "    https://s3.amazonaws.com/fast-ai-nlp/yelp_review_polarity_csv.tgz \\\n",
        "    -O /tmp/yelp_review_polarity_csv.tgz"
      ],
      "execution_count": null,
      "outputs": [
        {
          "output_type": "stream",
          "text": [
            "--2021-02-13 05:13:52--  https://s3.amazonaws.com/fast-ai-nlp/yelp_review_polarity_csv.tgz\n",
            "Resolving s3.amazonaws.com (s3.amazonaws.com)... 52.216.136.214\n",
            "Connecting to s3.amazonaws.com (s3.amazonaws.com)|52.216.136.214|:443... connected.\n",
            "HTTP request sent, awaiting response... 200 OK\n",
            "Length: 166373201 (159M) [application/x-tar]\n",
            "Saving to: ‘/tmp/yelp_review_polarity_csv.tgz’\n",
            "\n",
            "/tmp/yelp_review_po 100%[===================>] 158.67M  33.8MB/s    in 5.2s    \n",
            "\n",
            "2021-02-13 05:13:58 (30.2 MB/s) - ‘/tmp/yelp_review_polarity_csv.tgz’ saved [166373201/166373201]\n",
            "\n"
          ],
          "name": "stdout"
        }
      ]
    },
    {
      "cell_type": "code",
      "metadata": {
        "id": "vt7qo72UwxKu"
      },
      "source": [
        "import os\n",
        "import zipfile"
      ],
      "execution_count": null,
      "outputs": []
    },
    {
      "cell_type": "code",
      "metadata": {
        "id": "TEcdbrYKw7mF"
      },
      "source": [
        "local_zip = '/tmp/bert-base.zip'\n",
        "zip_ref = zipfile.ZipFile(local_zip, 'r')\n",
        "zip_ref.extractall('/tmp/bert-base')\n",
        "\n",
        "zip_ref.close()"
      ],
      "execution_count": null,
      "outputs": []
    },
    {
      "cell_type": "code",
      "metadata": {
        "id": "hC1uQUM9wOlw"
      },
      "source": [
        "import pandas as pd\n",
        "# this is to extract the data from that .tgz file\n",
        "import tarfile\n",
        "from sklearn.preprocessing import LabelEncoder\n",
        "from sklearn.model_selection import train_test_split"
      ],
      "execution_count": null,
      "outputs": []
    },
    {
      "cell_type": "code",
      "metadata": {
        "id": "wB55qh5Fwcax"
      },
      "source": [
        "# get all of the data out of that .tgz\n",
        "yelp_reviews = tarfile.open('/tmp/yelp_review_polarity_csv.tgz')\n",
        "yelp_reviews.extractall('/tmp/data')\n",
        "yelp_reviews.close()\n"
      ],
      "execution_count": null,
      "outputs": []
    },
    {
      "cell_type": "code",
      "metadata": {
        "colab": {
          "base_uri": "https://localhost:8080/"
        },
        "id": "Th7NMyIzwWVO",
        "outputId": "c8c21f89-af12-407b-be73-1914ede148fd"
      },
      "source": [
        "# check out what the data looks like before you get started\n",
        "# look at the training data set\n",
        "train_df = pd.read_csv('/tmp/data/yelp_review_polarity_csv/train.csv', header=None)\n",
        "print(train_df.head())"
      ],
      "execution_count": null,
      "outputs": [
        {
          "output_type": "stream",
          "text": [
            "   0                                                  1\n",
            "0  1  Unfortunately, the frustration of being Dr. Go...\n",
            "1  2  Been going to Dr. Goldberg for over 10 years. ...\n",
            "2  1  I don't know what Dr. Goldberg was like before...\n",
            "3  1  I'm writing this review to give you a heads up...\n",
            "4  2  All the food is great here. But the best thing...\n"
          ],
          "name": "stdout"
        }
      ]
    },
    {
      "cell_type": "code",
      "metadata": {
        "colab": {
          "base_uri": "https://localhost:8080/"
        },
        "id": "h7Vb_cdMwWw6",
        "outputId": "6438d01a-222a-4fe0-9168-7ee7846c3480"
      },
      "source": [
        "# look at the test data set\n",
        "test_df = pd.read_csv('/tmp/data/yelp_review_polarity_csv/test.csv', header=None)\n",
        "print(test_df.head())"
      ],
      "execution_count": null,
      "outputs": [
        {
          "output_type": "stream",
          "text": [
            "   0                                                  1\n",
            "0  2  Contrary to other reviews, I have zero complai...\n",
            "1  1  Last summer I had an appointment to get new ti...\n",
            "2  2  Friendly staff, same starbucks fair you get an...\n",
            "3  1  The food is good. Unfortunately the service is...\n",
            "4  2  Even when we didn't have a car Filene's Baseme...\n"
          ],
          "name": "stdout"
        }
      ]
    },
    {
      "cell_type": "code",
      "metadata": {
        "id": "C0nBZMkm0ElW"
      },
      "source": [
        "train_df[0] = (train_df[0] == 2).astype(int)\n",
        "test_df[0] = (test_df[0] == 2).astype(int)"
      ],
      "execution_count": null,
      "outputs": []
    },
    {
      "cell_type": "code",
      "metadata": {
        "colab": {
          "base_uri": "https://localhost:8080/"
        },
        "id": "ngzffxGc0apu",
        "outputId": "78348ddd-c0ed-4a7d-e087-f751bd8810d2"
      },
      "source": [
        "print(train_df.head())\n",
        "print(test_df.head())"
      ],
      "execution_count": null,
      "outputs": [
        {
          "output_type": "stream",
          "text": [
            "   0                                                  1\n",
            "0  0  Unfortunately, the frustration of being Dr. Go...\n",
            "1  1  Been going to Dr. Goldberg for over 10 years. ...\n",
            "2  0  I don't know what Dr. Goldberg was like before...\n",
            "3  0  I'm writing this review to give you a heads up...\n",
            "4  1  All the food is great here. But the best thing...\n",
            "   0                                                  1\n",
            "0  1  Contrary to other reviews, I have zero complai...\n",
            "1  0  Last summer I had an appointment to get new ti...\n",
            "2  1  Friendly staff, same starbucks fair you get an...\n",
            "3  0  The food is good. Unfortunately the service is...\n",
            "4  1  Even when we didn't have a car Filene's Baseme...\n"
          ],
          "name": "stdout"
        }
      ]
    },
    {
      "cell_type": "code",
      "metadata": {
        "id": "GYmd3cj80dxB"
      },
      "source": [
        "bert_df = pd.DataFrame({\n",
        "    'id': range(len(train_df)),\n",
        "    'label': train_df[0],\n",
        "    'alpha': ['q']*train_df.shape[0],\n",
        "    'text': train_df[1].replace(r'\\n', ' ', regex=True)\n",
        "})\n",
        "\n",
        "train_bert_df, dev_bert_df = train_test_split(bert_df, test_size=0.01)"
      ],
      "execution_count": null,
      "outputs": []
    },
    {
      "cell_type": "code",
      "metadata": {
        "colab": {
          "base_uri": "https://localhost:8080/"
        },
        "id": "kjSGC9za0i3k",
        "outputId": "79a6d7c9-e1d1-49fe-99ab-6d2a5614e724"
      },
      "source": [
        "print(train_bert_df.head())"
      ],
      "execution_count": null,
      "outputs": [
        {
          "output_type": "stream",
          "text": [
            "            id  label alpha                                               text\n",
            "437800  437800      0     q  This place should be renamed \\\"cucumber heaven...\n",
            "55982    55982      0     q  The food is decent enough but the service is q...\n",
            "413770  413770      0     q  I don't think I've ever complained about price...\n",
            "184931  184931      0     q  Long wait for service.  Less then mediocre foo...\n",
            "482263  482263      1     q  Love this salon!  Dena and Chloe are great! I ...\n"
          ],
          "name": "stdout"
        }
      ]
    },
    {
      "cell_type": "code",
      "metadata": {
        "id": "Ok9ipN2Q0ne7"
      },
      "source": [
        "test_bert_df = pd.DataFrame({\n",
        "    'id': range(len(test_df)),\n",
        "    'text': test_df[1].replace(r'\\n', ' ', regex=True)\n",
        "})"
      ],
      "execution_count": null,
      "outputs": []
    },
    {
      "cell_type": "code",
      "metadata": {
        "colab": {
          "base_uri": "https://localhost:8080/",
          "height": 204
        },
        "id": "SnaroLo20pcY",
        "outputId": "066d2c79-9b0e-4dd7-ccc3-826cf983b8b1"
      },
      "source": [
        "test_bert_df.head()"
      ],
      "execution_count": null,
      "outputs": [
        {
          "output_type": "execute_result",
          "data": {
            "text/html": [
              "<div>\n",
              "<style scoped>\n",
              "    .dataframe tbody tr th:only-of-type {\n",
              "        vertical-align: middle;\n",
              "    }\n",
              "\n",
              "    .dataframe tbody tr th {\n",
              "        vertical-align: top;\n",
              "    }\n",
              "\n",
              "    .dataframe thead th {\n",
              "        text-align: right;\n",
              "    }\n",
              "</style>\n",
              "<table border=\"1\" class=\"dataframe\">\n",
              "  <thead>\n",
              "    <tr style=\"text-align: right;\">\n",
              "      <th></th>\n",
              "      <th>id</th>\n",
              "      <th>text</th>\n",
              "    </tr>\n",
              "  </thead>\n",
              "  <tbody>\n",
              "    <tr>\n",
              "      <th>0</th>\n",
              "      <td>0</td>\n",
              "      <td>Contrary to other reviews, I have zero complai...</td>\n",
              "    </tr>\n",
              "    <tr>\n",
              "      <th>1</th>\n",
              "      <td>1</td>\n",
              "      <td>Last summer I had an appointment to get new ti...</td>\n",
              "    </tr>\n",
              "    <tr>\n",
              "      <th>2</th>\n",
              "      <td>2</td>\n",
              "      <td>Friendly staff, same starbucks fair you get an...</td>\n",
              "    </tr>\n",
              "    <tr>\n",
              "      <th>3</th>\n",
              "      <td>3</td>\n",
              "      <td>The food is good. Unfortunately the service is...</td>\n",
              "    </tr>\n",
              "    <tr>\n",
              "      <th>4</th>\n",
              "      <td>4</td>\n",
              "      <td>Even when we didn't have a car Filene's Baseme...</td>\n",
              "    </tr>\n",
              "  </tbody>\n",
              "</table>\n",
              "</div>"
            ],
            "text/plain": [
              "   id                                               text\n",
              "0   0  Contrary to other reviews, I have zero complai...\n",
              "1   1  Last summer I had an appointment to get new ti...\n",
              "2   2  Friendly staff, same starbucks fair you get an...\n",
              "3   3  The food is good. Unfortunately the service is...\n",
              "4   4  Even when we didn't have a car Filene's Baseme..."
            ]
          },
          "metadata": {
            "tags": []
          },
          "execution_count": 45
        }
      ]
    },
    {
      "cell_type": "code",
      "metadata": {
        "id": "7AUnESH10rbR"
      },
      "source": [
        "train_bert_df.to_csv('/tmp/data/train.tsv', sep='\\t', index=False, header=False)\n",
        "dev_bert_df.to_csv('/tmp/data/dev.tsv', sep='\\t', index=False, header=False)\n",
        "test_bert_df.to_csv('/tmp/data/test.tsv', sep='\\t', index=False, header=False)"
      ],
      "execution_count": null,
      "outputs": []
    },
    {
      "cell_type": "code",
      "metadata": {
        "id": "u3H3Yj_p1J1_"
      },
      "source": [
        ""
      ],
      "execution_count": null,
      "outputs": []
    }
  ]
}